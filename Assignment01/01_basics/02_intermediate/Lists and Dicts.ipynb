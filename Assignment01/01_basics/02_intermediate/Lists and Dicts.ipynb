{
 "cells": [
  {
   "cell_type": "markdown",
   "metadata": {},
   "source": [
    "# Problem #1: List Practice\n",
    "\n",
    "Now practice writing code with lists! Implement the functionality described in the comments below.\n",
    "\n",
    "def main(): # Create a list called fruit_list that contains the following fruits: # 'apple', 'banana', 'orange', 'grape', 'pineapple'.\n",
    "\n",
    "# Print the length of the list.\n",
    "\n",
    "\n",
    "# Add 'mango' at the end of the list. \n",
    "\n",
    "\n",
    "# Print the updated list."
   ]
  },
  {
   "cell_type": "code",
   "execution_count": 3,
   "metadata": {},
   "outputs": [
    {
     "name": "stdout",
     "output_type": "stream",
     "text": [
      "6\n",
      "['Strawberry', 'Banana', 'Cherry', 'Apple', 'Peach']\n",
      "['Strawberry', 'Banana', 'Cherry', 'Apple', 'Peach', 'Mango']\n"
     ]
    }
   ],
   "source": [
    "fruit_list : list[str] = [\"Mango\",\"Strawberry\",\"Banana\",\"Cherry\",\"Apple\",\"Peach\"]\n",
    "\n",
    "\n",
    "print(len(fruit_list))\n",
    "\n",
    "fruit_list.remove(\"Mango\")\n",
    "\n",
    "print(fruit_list)\n",
    "\n",
    "fruit_list.append(\"Mango\")\n",
    "\n",
    "print(fruit_list)\n",
    "\n"
   ]
  },
  {
   "cell_type": "markdown",
   "metadata": {},
   "source": [
    "# Problem #2: Index Game\n",
    "\n",
    "As a warmup, read this code and play the game a few times. Use this mental model of the list:\n",
    "\n",
    "Objective:\n",
    "Create a Python program that helps you practice accessing and manipulating elements in a list. This exercise will help you get comfortable with indexing, slicing, and modifying list elements.\n",
    "\n",
    "Game Interaction:\n",
    "Create a simple text-based game that:\n",
    "\n",
    "Prompts the user to select an operation (access, modify, slice).\n",
    "Asks for the necessary inputs (index, new value, etc.).\n",
    "Displays the result and the updated list."
   ]
  },
  {
   "cell_type": "code",
   "execution_count": 9,
   "metadata": {},
   "outputs": [
    {
     "name": "stdout",
     "output_type": "stream",
     "text": [
      "Strawberry\n"
     ]
    }
   ],
   "source": [
    "fruit_list : list[str] = [\"Mango\",\"Strawberry\",\"Banana\",\"Cherry\",\"Apple\",\"Peach\"]\n",
    "\n",
    "def access(user_list: list , index : int) -> None:\n",
    "    print(user_list[index])\n",
    "\n",
    "access(fruit_list,1)    "
   ]
  },
  {
   "cell_type": "code",
   "execution_count": 8,
   "metadata": {},
   "outputs": [
    {
     "data": {
      "text/plain": [
       "['Mango', 'Strawberry', 'Banana', 'Grapes', 'Apple', 'Peach']"
      ]
     },
     "execution_count": 8,
     "metadata": {},
     "output_type": "execute_result"
    }
   ],
   "source": [
    "fruit_list : list[str] = [\"Mango\",\"Strawberry\",\"Banana\",\"Cherry\",\"Apple\",\"Peach\"]\n",
    "\n",
    "def modify(index: int, new_value: str):\n",
    "    fruit_list[index] = new_value\n",
    "\n",
    "modify(3,\"Grapes\")   \n",
    "\n",
    "fruit_list"
   ]
  },
  {
   "cell_type": "code",
   "execution_count": null,
   "metadata": {},
   "outputs": [
    {
     "name": "stdout",
     "output_type": "stream",
     "text": [
      "['Strawberry', 'Banana']\n"
     ]
    }
   ],
   "source": [
    "fruit_list : list[str] = [\"Mango\",\"Strawberry\",\"Banana\",\"Cherry\",\"Apple\",\"Peach\"]\n",
    "\n",
    "def slice(start_index: int ,end_index: int):\n",
    "    print(fruit_list[start_index:end_index])\n",
    "\n",
    "slice(1,3)    "
   ]
  },
  {
   "cell_type": "code",
   "execution_count": 19,
   "metadata": {},
   "outputs": [
    {
     "name": "stdout",
     "output_type": "stream",
     "text": [
      "Onion\n",
      "['Tomato', 'Potato', 'Onion', 'Broccoli', 'Cucumber']\n",
      "['Potato', 'Onion']\n"
     ]
    }
   ],
   "source": [
    "class ListTasksBuilder:\n",
    "    def __init__(self, user_list : list[str]):\n",
    "        self.user_list = user_list\n",
    "\n",
    "    def access(self, index : int) -> None:\n",
    "        print(self.user_list[index]) \n",
    "\n",
    "    def modify(self, index : int , new_value : str):\n",
    "        self.user_list[index] = new_value\n",
    "\n",
    "    def slice(self, start_index : int, end_index :int):\n",
    "        print(self.user_list[start_index:end_index])         \n",
    "\n",
    "vegetable_names : list[str] = [\"Tomato\",\"Potato\",\"Onion\",\"Carrot\",\"Cucumber\"]\n",
    "\n",
    "task_lists : ListTasksBuilder = ListTasksBuilder(vegetable_names)\n",
    "\n",
    "\n",
    "task_lists.access(2)\n",
    "\n",
    "\n",
    "task_lists.modify(3,\"Broccoli\")\n",
    "\n",
    "print(vegetable_names)\n",
    "\n",
    "\n",
    "task_lists.slice(1,3)"
   ]
  }
 ],
 "metadata": {
  "kernelspec": {
   "display_name": "python12",
   "language": "python",
   "name": "python3"
  },
  "language_info": {
   "codemirror_mode": {
    "name": "ipython",
    "version": 3
   },
   "file_extension": ".py",
   "mimetype": "text/x-python",
   "name": "python",
   "nbconvert_exporter": "python",
   "pygments_lexer": "ipython3",
   "version": "3.12.0"
  }
 },
 "nbformat": 4,
 "nbformat_minor": 2
}
