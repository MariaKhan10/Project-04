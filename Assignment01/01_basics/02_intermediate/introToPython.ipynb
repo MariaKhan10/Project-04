{
 "cells": [
  {
   "cell_type": "markdown",
   "metadata": {},
   "source": [
    "Problem: Planetary Weight Calculator\n",
    "\n",
    "Milestone #1: Mars Weight\n",
    "\n",
    "A few years ago, NASA made history with the first controlled flight on another planet. Its latest Mars Rover, Perseverance, has onboard a 50cm high helicopter called Ingenuity. Ingenuity made its third flight, during which it flew faster and further than it had on any of its test flights on Earth. Interestingly, Ingenuity uses Python for some of its flight modeling software!\n",
    "\n",
    "Ingenuity on the surface of Mars (source: NASA)\n",
    "\n",
    "When programming Ingenuity, one of the things that NASA engineers need to account for is the fact that due to the weaker gravity on Mars, an Earthling's weight on Mars is 37.8% of their weight on Earth. Write a Python program that prompts an Earthling to enter their weight on Earth and prints their calculated weight on Mars.\n",
    "\n",
    "The output should be rounded to two decimal places when necessary. Python has a round function which can help you with this. You pass in the value to be rounded and the number of decimal places to use. In the example below, the number 3.1415926 is rounded to 2 decimal places which is 3.14."
   ]
  },
  {
   "cell_type": "code",
   "execution_count": 1,
   "metadata": {},
   "outputs": [
    {
     "name": "stdout",
     "output_type": "stream",
     "text": [
      "Your Weight on Earth is :  50.0\n",
      "Your Weight on Mars is :  18.9\n"
     ]
    }
   ],
   "source": [
    "Mars_Constant : float = 0.378\n",
    "\n",
    "def getmarsweight():\n",
    "  user_weight  : float = float(input(\"What is your weight on Earth ?\"))\n",
    "  print(\"Your Weight on Earth is : \" , user_weight)\n",
    "  mars_weight = round((user_weight * Mars_Constant),2)\n",
    "\n",
    "  return mars_weight\n",
    "\n",
    "\n",
    "Yourweightonmars = getmarsweight()\n",
    "print(\"Your Weight on Mars is : \",Yourweightonmars)"
   ]
  },
  {
   "cell_type": "markdown",
   "metadata": {},
   "source": [
    "Milestone #2: Adding in All Planets\n",
    "\n",
    "Mars is not the only planet in our solar system with its own unique gravity. In fact, each planet has a different gravitational constant, which affects how much an object would weigh on that planet. Below is a list of the constants for each planet compared to Earth's gravity:\n",
    "\n",
    "Mercury: 37.6%\n",
    "\n",
    "Venus: 88.9%\n",
    "\n",
    "Mars: 37.8%\n",
    "\n",
    "Jupiter: 236.0%\n",
    "\n",
    "Saturn: 108.1%\n",
    "\n",
    "Uranus: 81.5%\n",
    "\n",
    "Neptune: 114.0%\n",
    "\n",
    "Write a Python program that prompts an Earthling to enter their weight on Earth and then to enter the name of a planet in our solar system. The program should print the equivalent weight on that planet rounded to 2 decimal places if necessary.\n",
    "\n",
    "You can assume that the user will always type in a planet with the first letter capitalized and you do not need to worry about the case where they type in something other than one of the above planets."
   ]
  },
  {
   "cell_type": "code",
   "execution_count": 2,
   "metadata": {},
   "outputs": [
    {
     "name": "stdout",
     "output_type": "stream",
     "text": [
      "Your Weight on Mars is: 18.90\n"
     ]
    }
   ],
   "source": [
    "# Constants\n",
    "gravity_constants = {\n",
    "    \"Mercury\" : 0.376,\n",
    "    \"Venus\" : 0.889,\n",
    "    \"Mars\" : 0.378,\n",
    "    \"Jupiter\" : 2.36,\n",
    "    \"Saturn\" : 1.081,\n",
    "    \"Uranus\" : 0.815,\n",
    "    \"Neptune\" : 1.14\n",
    "}\n",
    "\n",
    "# Weight Calculation\n",
    "def calculate_weight_on_planet(earth_weight , planet):\n",
    "    if planet in gravity_constants:\n",
    "        weight_on_planet = earth_weight * gravity_constants[planet]\n",
    "        return f\"Your Weight on {planet} is: {weight_on_planet:.2f}\"\n",
    "    else:\n",
    "        return \"Invalid Planet Name\"\n",
    "    \n",
    "# Error Handling    \n",
    "while True:\n",
    "  try:\n",
    "   earth_weight : float = float(input(\"What is Your Weight on Earth ?\"))\n",
    "   break\n",
    "  except ValueError:\n",
    "     print(\"Weight must be a Numeric value\")\n",
    "planet : str = input(\"What is Your Planet name ?\")\n",
    "\n",
    "print(calculate_weight_on_planet(earth_weight,planet))"
   ]
  }
 ],
 "metadata": {
  "kernelspec": {
   "display_name": "python12",
   "language": "python",
   "name": "python3"
  },
  "language_info": {
   "codemirror_mode": {
    "name": "ipython",
    "version": 3
   },
   "file_extension": ".py",
   "mimetype": "text/x-python",
   "name": "python",
   "nbconvert_exporter": "python",
   "pygments_lexer": "ipython3",
   "version": "3.12.0"
  }
 },
 "nbformat": 4,
 "nbformat_minor": 2
}
